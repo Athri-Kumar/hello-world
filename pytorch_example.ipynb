{
  "nbformat": 4,
  "nbformat_minor": 0,
  "metadata": {
    "colab": {
      "provenance": [],
      "include_colab_link": true
    },
    "kernelspec": {
      "name": "python3",
      "display_name": "Python 3"
    },
    "language_info": {
      "name": "python"
    }
  },
  "cells": [
    {
      "cell_type": "markdown",
      "metadata": {
        "id": "view-in-github",
        "colab_type": "text"
      },
      "source": [
        "<a href=\"https://colab.research.google.com/github/Athri-Kumar/hello-world/blob/master/pytorch_example.ipynb\" target=\"_parent\"><img src=\"https://colab.research.google.com/assets/colab-badge.svg\" alt=\"Open In Colab\"/></a>"
      ]
    },
    {
      "cell_type": "code",
      "execution_count": null,
      "metadata": {
        "colab": {
          "base_uri": "https://localhost:8080/"
        },
        "id": "0IrRE8omiz7O",
        "outputId": "2429ae94-328b-48c8-9f22-1b17d931ad8d"
      },
      "outputs": [
        {
          "output_type": "stream",
          "name": "stdout",
          "text": [
            "initial loss 1.5891945362091064\n",
            "initial weights tensor([[-0.0798,  0.6828]])\n",
            "no gradients initially: None\n",
            "gradients are computed: tensor([[0.0280, 2.2611]])\n",
            "updated weights tensor([[-0.0826,  0.4567]])\n",
            "gradients are cleared: None\n",
            "updated loss 0.9297463893890381\n"
          ]
        }
      ],
      "source": [
        "# Note that this an PyTorch example\n",
        "# You are only allowed to use PyTorch in the last question of HW1.\n",
        "\n",
        "import torch\n",
        "import torch.nn as nn\n",
        "from torch.nn.functional import mse_loss\n",
        "\n",
        "\n",
        "# model & a random input\n",
        "model = nn.Linear(2, 1)\n",
        "x = torch.randn(4, 2)\n",
        "\n",
        "# your target\n",
        "y_tar = torch.randn(4, 1)\n",
        "\n",
        "# optimizer that update gradients\n",
        "opt = torch.optim.SGD(model.parameters(), lr=0.1)\n",
        "\n",
        "# compute the prediction (forward pass)\n",
        "y_pred = model(x)\n",
        "\n",
        "# compute loss\n",
        "loss = mse_loss(y_tar, y_pred)\n",
        "print(\"initial loss\", loss.item())\n",
        "\n",
        "# print initial weights\n",
        "print(\"initial weights\", model.weight.data)\n",
        "\n",
        "print(\"no gradients initially:\", model.weight.grad)\n",
        "\n",
        "# Compute gradients (backward pass)\n",
        "loss.backward()\n",
        "print(\"gradients are computed:\", model.weight.grad)\n",
        "\n",
        "# update weights with newly computed gradients\n",
        "opt.step()\n",
        "\n",
        "# your weights have been updated\n",
        "print(\"updated weights\", model.weight.data)\n",
        "\n",
        "# clear gradient for all weights\n",
        "opt.zero_grad()\n",
        "print(\"gradients are cleared:\", model.weight.grad)\n",
        "\n",
        "# recompute loss, you should see a smaller one\n",
        "y_pred = model(x)\n",
        "loss = mse_loss(y_tar, y_pred)\n",
        "print(\"updated loss\", loss.item())"
      ]
    },
    {
      "cell_type": "code",
      "source": [],
      "metadata": {
        "id": "pjJ30Wyskx3W"
      },
      "execution_count": null,
      "outputs": []
    }
  ]
}